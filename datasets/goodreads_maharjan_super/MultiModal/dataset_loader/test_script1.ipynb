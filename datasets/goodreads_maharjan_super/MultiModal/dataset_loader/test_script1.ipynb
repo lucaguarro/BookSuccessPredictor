{
 "metadata": {
  "language_info": {
   "codemirror_mode": {
    "name": "ipython",
    "version": 3
   },
   "file_extension": ".py",
   "mimetype": "text/x-python",
   "name": "python",
   "nbconvert_exporter": "python",
   "pygments_lexer": "ipython3",
   "version": "3.7.9"
  },
  "orig_nbformat": 4,
  "kernelspec": {
   "name": "python3",
   "display_name": "Python 3.7.9 64-bit ('virtual_workspace': conda)"
  },
  "interpreter": {
   "hash": "f299ee3012df6080f57de79881e3826058f9cfc9301d8d13f6355475feceabda"
  }
 },
 "nbformat": 4,
 "nbformat_minor": 2,
 "cells": [
  {
   "cell_type": "code",
   "execution_count": 1,
   "source": [
    "from readers.goodreads import GoodreadsReader\r\n",
    "from readers.corpus import Corpus\r\n",
    "from features.utils import fetch_features_vectorized\r\n",
    "\r\n",
    "def label_extractor(book_data):\r\n",
    "    return book_data.success\r\n",
    "\r\n",
    "features = [\"char_5_gram\", \"BertFeatures\"]\r\n",
    "\r\n",
    "# reader = GoodreadsReader(r'C:\\Users\\lucag\\Google Drive\\Thesis\\UsefulRelatedProjects\\curr_sota\\data\\raw_text')\r\n",
    "reader = GoodreadsReader(r'G:\\My Drive\\Thesis\\UsefulRelatedProjects\\curr_sota\\data\\raw_text')\r\n",
    "\r\n",
    "corpus = Corpus.from_splitfile(reader, '../../raw_text/train_test_val_split_goodreads.yaml', label_extractor)"
   ],
   "outputs": [
    {
     "output_type": "stream",
     "name": "stdout",
     "text": [
      "Total test instances: 290, validation instances: 290, and Training instances: 404\n",
      "Total unique books: 984\n",
      "Training instances (404,), Val instances (290,), Test instances (290,)\n"
     ]
    },
    {
     "output_type": "stream",
     "name": "stderr",
     "text": [
      "g:\\My Drive\\Thesis\\BookSuccessPredictor\\datasets\\goodreads_maharjan_super\\MultiModal\\dataset_loader\\readers\\corpus.py:61: YAMLLoadWarning: calling yaml.load() without Loader=... is deprecated, as the default Loader is unsafe. Please read https://msg.pyyaml.org/load for full details.\n",
      "  data = yaml.load(stream)\n"
     ]
    }
   ],
   "metadata": {}
  },
  {
   "cell_type": "code",
   "execution_count": 2,
   "source": [
    "feature_dic = fetch_features_vectorized('./cached_features', features, corpus)\r\n",
    "\r\n",
    "from pathlib import Path\r\n",
    "Path('./cached_features').exists()\r\n",
    "feature_dic"
   ],
   "outputs": [
    {
     "output_type": "stream",
     "name": "stdout",
     "text": [
      "char_5_gram\n"
     ]
    },
    {
     "output_type": "execute_result",
     "data": {
      "text/plain": [
       "(<404x377185 sparse matrix of type '<class 'numpy.float64'>'\n",
       " \twith 11006134 stored elements in Compressed Sparse Row format>,\n",
       " array([0, 0, 0, 0, 0, 0, 0, 0, 0, 0, 0, 0, 0, 0, 0, 0, 0, 0, 0, 0, 0, 0,\n",
       "        0, 0, 0, 1, 1, 1, 1, 1, 1, 1, 1, 1, 1, 1, 1, 1, 1, 1, 1, 1, 1, 1,\n",
       "        1, 1, 0, 0, 0, 0, 0, 0, 0, 0, 0, 0, 0, 0, 0, 1, 1, 1, 1, 1, 1, 1,\n",
       "        1, 1, 1, 1, 1, 1, 1, 1, 1, 1, 1, 1, 1, 1, 1, 1, 1, 1, 1, 1, 1, 0,\n",
       "        0, 0, 0, 0, 0, 0, 0, 0, 0, 0, 1, 1, 1, 1, 1, 1, 1, 1, 1, 1, 1, 1,\n",
       "        1, 1, 1, 1, 1, 1, 1, 1, 1, 1, 1, 1, 1, 1, 1, 1, 1, 1, 1, 1, 1, 1,\n",
       "        1, 1, 0, 0, 0, 0, 0, 0, 0, 0, 1, 1, 1, 1, 1, 1, 1, 1, 1, 1, 1, 1,\n",
       "        1, 1, 1, 1, 1, 1, 1, 1, 1, 1, 1, 1, 1, 1, 1, 0, 0, 0, 0, 0, 0, 0,\n",
       "        1, 1, 1, 1, 1, 1, 1, 1, 1, 1, 1, 1, 1, 1, 1, 1, 1, 1, 1, 1, 1, 1,\n",
       "        0, 0, 0, 0, 0, 0, 0, 1, 1, 1, 1, 1, 1, 1, 1, 1, 1, 1, 1, 1, 1, 1,\n",
       "        1, 1, 1, 1, 1, 1, 1, 1, 1, 1, 1, 1, 1, 1, 1, 1, 1, 1, 1, 1, 1, 1,\n",
       "        1, 1, 1, 1, 1, 1, 1, 1, 1, 1, 1, 1, 1, 1, 1, 1, 1, 1, 1, 1, 1, 1,\n",
       "        1, 1, 1, 1, 1, 1, 1, 1, 0, 0, 0, 0, 0, 0, 0, 0, 0, 0, 0, 0, 0, 0,\n",
       "        0, 0, 1, 1, 1, 1, 1, 1, 1, 1, 1, 1, 1, 1, 1, 1, 1, 1, 0, 0, 0, 0,\n",
       "        0, 0, 0, 0, 0, 0, 0, 0, 0, 0, 0, 0, 0, 0, 0, 0, 0, 0, 0, 0, 0, 0,\n",
       "        0, 0, 0, 0, 0, 0, 0, 0, 0, 0, 0, 0, 0, 0, 0, 0, 0, 0, 0, 0, 0, 0,\n",
       "        0, 0, 1, 1, 1, 1, 1, 1, 1, 1, 1, 1, 1, 1, 1, 1, 1, 1, 1, 1, 1, 1,\n",
       "        1, 1, 1, 1, 1, 1, 1, 1, 1, 1, 1, 1, 1, 1, 1, 1, 1, 1, 1, 1, 1, 1,\n",
       "        1, 1, 1, 1, 1, 1, 1, 1]),\n",
       " <290x377185 sparse matrix of type '<class 'numpy.float64'>'\n",
       " \twith 7492197 stored elements in Compressed Sparse Row format>,\n",
       " array([0, 0, 0, 0, 0, 0, 0, 0, 0, 0, 0, 0, 0, 0, 1, 1, 1, 1, 1, 1, 1, 1,\n",
       "        1, 1, 1, 1, 1, 1, 0, 0, 0, 0, 0, 0, 0, 0, 0, 1, 1, 1, 1, 1, 1, 1,\n",
       "        1, 1, 1, 1, 1, 1, 1, 1, 1, 1, 1, 0, 0, 0, 0, 0, 0, 0, 0, 0, 1, 1,\n",
       "        1, 1, 1, 1, 1, 1, 1, 1, 1, 1, 1, 1, 1, 1, 1, 1, 1, 1, 1, 1, 0, 0,\n",
       "        0, 1, 1, 1, 1, 1, 1, 1, 1, 1, 1, 1, 1, 1, 1, 1, 1, 1, 1, 1, 1, 1,\n",
       "        0, 0, 0, 0, 0, 0, 0, 1, 1, 1, 1, 1, 1, 1, 1, 1, 1, 1, 1, 1, 1, 1,\n",
       "        1, 0, 0, 0, 0, 0, 0, 1, 1, 1, 1, 1, 1, 1, 1, 1, 1, 1, 1, 1, 1, 1,\n",
       "        1, 1, 1, 1, 1, 1, 1, 1, 1, 1, 1, 1, 1, 1, 1, 1, 1, 1, 1, 1, 1, 1,\n",
       "        1, 1, 1, 1, 1, 1, 1, 1, 1, 0, 0, 0, 0, 0, 0, 0, 0, 0, 0, 0, 0, 0,\n",
       "        0, 0, 0, 1, 1, 1, 1, 1, 1, 1, 1, 1, 1, 1, 1, 1, 0, 0, 0, 0, 0, 0,\n",
       "        0, 0, 0, 0, 0, 0, 0, 0, 0, 0, 0, 0, 0, 0, 0, 0, 0, 0, 0, 0, 0, 0,\n",
       "        0, 0, 0, 0, 0, 0, 0, 0, 0, 0, 0, 1, 1, 1, 1, 1, 1, 1, 1, 1, 1, 1,\n",
       "        1, 1, 1, 1, 1, 1, 1, 1, 1, 1, 1, 1, 1, 1, 1, 1, 1, 1, 1, 1, 1, 1,\n",
       "        1, 1, 1, 1]),\n",
       " <290x377185 sparse matrix of type '<class 'numpy.float64'>'\n",
       " \twith 7504316 stored elements in Compressed Sparse Row format>,\n",
       " array([0, 0, 0, 0, 0, 0, 0, 0, 0, 0, 0, 0, 0, 0, 0, 0, 0, 0, 0, 0, 0, 1,\n",
       "        1, 1, 1, 1, 1, 1, 1, 1, 1, 1, 0, 0, 0, 0, 0, 0, 0, 1, 1, 1, 1, 1,\n",
       "        1, 1, 1, 1, 1, 1, 1, 1, 1, 1, 1, 1, 1, 1, 1, 1, 1, 1, 0, 0, 0, 0,\n",
       "        0, 0, 0, 0, 0, 0, 1, 1, 1, 1, 1, 1, 1, 1, 1, 1, 1, 1, 1, 1, 1, 1,\n",
       "        1, 1, 1, 1, 1, 1, 1, 0, 0, 0, 0, 0, 1, 1, 1, 1, 1, 1, 1, 1, 1, 1,\n",
       "        1, 1, 1, 1, 1, 1, 1, 0, 0, 0, 0, 1, 1, 1, 1, 1, 1, 1, 1, 1, 1, 1,\n",
       "        1, 1, 1, 1, 1, 0, 0, 0, 0, 0, 0, 0, 0, 0, 1, 1, 1, 1, 1, 1, 1, 1,\n",
       "        1, 1, 1, 1, 1, 1, 1, 1, 1, 1, 1, 1, 1, 1, 1, 1, 1, 1, 1, 1, 1, 1,\n",
       "        1, 1, 1, 1, 1, 1, 1, 1, 1, 1, 1, 1, 1, 1, 0, 0, 0, 0, 0, 0, 0, 0,\n",
       "        0, 0, 0, 0, 0, 0, 0, 0, 1, 1, 1, 1, 1, 1, 1, 1, 1, 1, 0, 0, 0, 0,\n",
       "        0, 0, 0, 0, 0, 0, 0, 0, 0, 0, 0, 0, 0, 0, 0, 0, 0, 0, 0, 0, 0, 0,\n",
       "        0, 0, 0, 0, 0, 1, 1, 1, 1, 1, 1, 1, 1, 1, 1, 1, 1, 1, 1, 1, 1, 1,\n",
       "        1, 1, 1, 1, 1, 1, 1, 1, 1, 1, 1, 1, 1, 1, 1, 1, 1, 1, 1, 1, 1, 1,\n",
       "        1, 1, 1, 1]))"
      ]
     },
     "metadata": {},
     "execution_count": 2
    }
   ],
   "metadata": {
    "tags": []
   }
  },
  {
   "cell_type": "code",
   "execution_count": 8,
   "source": [
    "type(feature_dic[0])"
   ],
   "outputs": [
    {
     "output_type": "execute_result",
     "data": {
      "text/plain": [
       "scipy.sparse.csr.csr_matrix"
      ]
     },
     "metadata": {},
     "execution_count": 8
    }
   ],
   "metadata": {}
  },
  {
   "cell_type": "code",
   "execution_count": 26,
   "source": [
    "print(feature_dic[0][0,377184-767:377184])"
   ],
   "outputs": [
    {
     "output_type": "stream",
     "name": "stdout",
     "text": [
      "  (0, 0)\t-0.343386173248291\n",
      "  (0, 1)\t0.5202162861824036\n",
      "  (0, 2)\t0.3808419108390808\n",
      "  (0, 3)\t-0.02856644243001938\n",
      "  (0, 4)\t0.4367370009422302\n",
      "  (0, 5)\t0.803038477897644\n",
      "  (0, 6)\t0.0014930168399587274\n",
      "  (0, 7)\t-0.35344067215919495\n",
      "  (0, 8)\t-0.2789946496486664\n",
      "  (0, 9)\t-0.3335440754890442\n",
      "  (0, 10)\t-0.32410508394241333\n",
      "  (0, 11)\t-0.25759559869766235\n",
      "  (0, 12)\t-0.43711477518081665\n",
      "  (0, 13)\t-0.42432713508605957\n",
      "  (0, 14)\t0.5314561128616333\n",
      "  (0, 15)\t0.18932518362998962\n",
      "  (0, 16)\t0.464493066072464\n",
      "  (0, 17)\t-0.36042264103889465\n",
      "  (0, 18)\t0.47384971380233765\n",
      "  (0, 19)\t0.001913672429509461\n",
      "  (0, 20)\t0.7433455586433411\n",
      "  (0, 21)\t-0.047287467867136\n",
      "  (0, 22)\t-0.40754178166389465\n",
      "  (0, 23)\t0.4398742914199829\n",
      "  (0, 24)\t-0.2494587004184723\n",
      "  :\t:\n",
      "  (0, 742)\t-0.5388141870498657\n",
      "  (0, 743)\t0.08691953122615814\n",
      "  (0, 744)\t0.4817403554916382\n",
      "  (0, 745)\t0.375184565782547\n",
      "  (0, 746)\t0.11179772019386292\n",
      "  (0, 747)\t0.4755815863609314\n",
      "  (0, 748)\t0.6935405135154724\n",
      "  (0, 749)\t0.3913550078868866\n",
      "  (0, 750)\t0.4019980728626251\n",
      "  (0, 751)\t0.10883190482854843\n",
      "  (0, 752)\t-0.864895761013031\n",
      "  (0, 753)\t0.38439470529556274\n",
      "  (0, 754)\t0.03394608199596405\n",
      "  (0, 755)\t-0.4514492452144623\n",
      "  (0, 756)\t-0.30156558752059937\n",
      "  (0, 757)\t-0.290010929107666\n",
      "  (0, 758)\t-0.13023939728736877\n",
      "  (0, 759)\t0.12477579712867737\n",
      "  (0, 760)\t-0.22712291777133942\n",
      "  (0, 761)\t0.17329324781894684\n",
      "  (0, 762)\t-0.5236007571220398\n",
      "  (0, 763)\t1.1644737720489502\n",
      "  (0, 764)\t-0.14758647978305817\n",
      "  (0, 765)\t0.7147431373596191\n",
      "  (0, 766)\t0.5103347897529602\n"
     ]
    }
   ],
   "metadata": {}
  },
  {
   "cell_type": "code",
   "execution_count": null,
   "source": [],
   "outputs": [],
   "metadata": {}
  }
 ]
}
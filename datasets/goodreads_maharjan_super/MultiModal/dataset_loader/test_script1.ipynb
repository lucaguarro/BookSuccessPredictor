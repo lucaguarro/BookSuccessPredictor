{
 "metadata": {
  "language_info": {
   "codemirror_mode": {
    "name": "ipython",
    "version": 3
   },
   "file_extension": ".py",
   "mimetype": "text/x-python",
   "name": "python",
   "nbconvert_exporter": "python",
   "pygments_lexer": "ipython3",
   "version": "3.7.9"
  },
  "orig_nbformat": 4,
  "kernelspec": {
   "name": "python3",
   "display_name": "Python 3.7.9 64-bit ('virtual_workspace': conda)"
  },
  "interpreter": {
   "hash": "f299ee3012df6080f57de79881e3826058f9cfc9301d8d13f6355475feceabda"
  }
 },
 "nbformat": 4,
 "nbformat_minor": 2,
 "cells": [
  {
   "cell_type": "code",
   "execution_count": 1,
   "source": [
    "from readers.goodreads import GoodreadsReader\r\n",
    "from readers.corpus import Corpus\r\n",
    "from features.utils import fetch_features_vectorized\r\n",
    "\r\n",
    "def label_extractor(book_data):\r\n",
    "    return book_data.success\r\n",
    "\r\n",
    "features = [\"char_5_gram\", \"bert_features\"]\r\n",
    "\r\n",
    "# dataset_base_dir = '/content/drive/MyDrive/Thesis/BookSuccessPredictor/datasets/goodreads_maharjan_super/raw_preprocessed/goodreads_maharjan_trimmed'\r\n",
    "# cached_features_dir = '/content/drive/MyDrive/Thesis/BookSuccessPredictor/datasets/goodreads_maharjan_super/MultiModal/dataset_loader/cached_features'\r\n",
    "reader = GoodreadsReader(r'G:\\My Drive\\Thesis\\BookSuccessPredictor\\datasets\\goodreads_maharjan_super\\raw_preprocessed\\goodreads_maharjan_trimmed')\r\n",
    "\r\n",
    "corpus = Corpus.from_splitfile(reader, r'G:\\My Drive\\Thesis\\BookSuccessPredictor\\datasets\\goodreads_maharjan_super\\raw_preprocessed\\goodreads_maharjan_trimmed\\train_test_val_split_goodreads.yaml', label_extractor)"
   ],
   "outputs": [
    {
     "output_type": "stream",
     "name": "stdout",
     "text": [
      "Total test instances: 290, validation instances: 290, and Training instances: 404\n",
      "Total unique books: 984\n",
      "Training instances (404,), Val instances (290,), Test instances (290,)\n"
     ]
    },
    {
     "output_type": "stream",
     "name": "stderr",
     "text": [
      "g:\\My Drive\\Thesis\\BookSuccessPredictor\\datasets\\goodreads_maharjan_super\\MultiModal\\dataset_loader\\readers\\corpus.py:61: YAMLLoadWarning: calling yaml.load() without Loader=... is deprecated, as the default Loader is unsafe. Please read https://msg.pyyaml.org/load for full details.\n",
      "  data = yaml.load(stream)\n"
     ]
    }
   ],
   "metadata": {}
  },
  {
   "cell_type": "code",
   "execution_count": null,
   "source": [
    "feature_dic = fetch_features_vectorized('./cached_features', features, corpus)\r\n",
    "\r\n",
    "from pathlib import Path\r\n",
    "Path('./cached_features').exists()\r\n",
    "feature_dic"
   ],
   "outputs": [],
   "metadata": {
    "tags": []
   }
  },
  {
   "cell_type": "code",
   "execution_count": 1,
   "source": [
    "from MultimodalGoodreadsDataset import MultimodalGoodreadsDataset\r\n",
    "\r\n",
    "dataset_base_dir = r'G:\\My Drive\\Thesis\\BookSuccessPredictor\\datasets\\goodreads_maharjan_super\\raw_preprocessed\\goodreads_maharjan_trimmed'\r\n",
    "cached_features_dir = r'G:\\My Drive\\Thesis\\BookSuccessPredictor\\datasets\\goodreads_maharjan_super\\MultiModal\\dataset_loader\\cached_features'\r\n",
    "a = MultimodalGoodreadsDataset(dataset_base_dir, cached_features_dir)"
   ],
   "outputs": [
    {
     "output_type": "stream",
     "name": "stderr",
     "text": [
      "g:\\My Drive\\Thesis\\BookSuccessPredictor\\datasets\\goodreads_maharjan_super\\MultiModal\\dataset_loader\\readers\\corpus.py:61: YAMLLoadWarning: calling yaml.load() without Loader=... is deprecated, as the default Loader is unsafe. Please read https://msg.pyyaml.org/load for full details.\n",
      "  data = yaml.load(stream)\n"
     ]
    },
    {
     "output_type": "stream",
     "name": "stdout",
     "text": [
      "Total test instances: 290, validation instances: 290, and Training instances: 404\n",
      "Total unique books: 984\n",
      "Training instances (404,), Val instances (290,), Test instances (290,)\n",
      "extracting feature: char_5_gram\n",
      "Using cached features\n",
      "extracting feature: bert_features\n",
      "Using cached features\n"
     ]
    }
   ],
   "metadata": {}
  },
  {
   "cell_type": "code",
   "execution_count": 3,
   "source": [
    "from torch.utils.data import DataLoader"
   ],
   "outputs": [],
   "metadata": {}
  },
  {
   "cell_type": "code",
   "execution_count": 5,
   "source": [
    "train_dataloader = DataLoader(a.train, batch_size=64, shuffle=True)\r\n",
    "val_dataloader = DataLoader(a.val, batch_size=64, shuffle=True)\r\n",
    "test_dataloader = DataLoader(a.test, batch_size=64, shuffle=True)"
   ],
   "outputs": [],
   "metadata": {}
  },
  {
   "cell_type": "code",
   "execution_count": 6,
   "source": [
    "a"
   ],
   "outputs": [
    {
     "output_type": "execute_result",
     "data": {
      "text/plain": [
       "<MultimodalGoodreadsDataset.MultimodalGoodreadsDataset at 0x1853a799688>"
      ]
     },
     "metadata": {},
     "execution_count": 6
    }
   ],
   "metadata": {}
  },
  {
   "cell_type": "code",
   "execution_count": null,
   "source": [],
   "outputs": [],
   "metadata": {}
  }
 ]
}
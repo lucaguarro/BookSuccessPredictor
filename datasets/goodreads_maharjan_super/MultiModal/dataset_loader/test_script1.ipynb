{
 "metadata": {
  "language_info": {
   "codemirror_mode": {
    "name": "ipython",
    "version": 3
   },
   "file_extension": ".py",
   "mimetype": "text/x-python",
   "name": "python",
   "nbconvert_exporter": "python",
   "pygments_lexer": "ipython3",
   "version": "3.7.9"
  },
  "orig_nbformat": 4,
  "kernelspec": {
   "name": "python3",
   "display_name": "Python 3.7.9 64-bit ('virtual_workspace': conda)"
  },
  "interpreter": {
   "hash": "f299ee3012df6080f57de79881e3826058f9cfc9301d8d13f6355475feceabda"
  }
 },
 "nbformat": 4,
 "nbformat_minor": 2,
 "cells": [
  {
   "cell_type": "code",
   "execution_count": 1,
   "source": [
    "from readers.goodreads import GoodreadsReader\r\n",
    "from readers.corpus import Corpus\r\n",
    "from features.utils import fetch_features_vectorized\r\n",
    "\r\n",
    "def label_extractor(book_data):\r\n",
    "    return book_data.success\r\n",
    "\r\n",
    "features = [\"bert_features\", \"char_5_gram\", \"readability_scaled\"]\r\n",
    "\r\n",
    "# dataset_base_dir = '/content/drive/MyDrive/Thesis/BookSuccessPredictor/datasets/goodreads_maharjan_super/raw_preprocessed/goodreads_maharjan_trimmed'\r\n",
    "# cached_features_dir = '/content/drive/MyDrive/Thesis/BookSuccessPredictor/datasets/goodreads_maharjan_super/MultiModal/dataset_loader/cached_features'\r\n",
    "reader = GoodreadsReader(r'G:\\My Drive\\Thesis\\BookSuccessPredictor\\datasets\\goodreads_maharjan_super\\raw_preprocessed\\goodreads_maharjan_trimmed')\r\n",
    "\r\n",
    "corpus = Corpus.from_splitfile(reader, r'G:\\My Drive\\Thesis\\BookSuccessPredictor\\datasets\\goodreads_maharjan_super\\raw_preprocessed\\goodreads_maharjan_trimmed\\train_test_val_80_20_split_goodreads.yaml', label_extractor)"
   ],
   "outputs": [
    {
     "output_type": "stream",
     "name": "stdout",
     "text": [
      "Total test instances: 290, validation instances: 139, and Training instances: 555\n",
      "Total unique books: 984\n",
      "Training instances (555,), Val instances (139,), Test instances (290,)\n"
     ]
    },
    {
     "output_type": "stream",
     "name": "stderr",
     "text": [
      "g:\\My Drive\\Thesis\\BookSuccessPredictor\\datasets\\goodreads_maharjan_super\\MultiModal\\dataset_loader\\readers\\corpus.py:61: YAMLLoadWarning: calling yaml.load() without Loader=... is deprecated, as the default Loader is unsafe. Please read https://msg.pyyaml.org/load for full details.\n",
      "  data = yaml.load(stream)\n"
     ]
    }
   ],
   "metadata": {}
  },
  {
   "cell_type": "code",
   "execution_count": 3,
   "source": [
    "feature_dic = fetch_features_vectorized('./cached_features', features, corpus)\r\n",
    "\r\n",
    "from pathlib import Path\r\n",
    "Path('./cached_features').exists()\r\n",
    "feature_dic"
   ],
   "outputs": [
    {
     "output_type": "stream",
     "name": "stdout",
     "text": [
      "extracting feature: bert_features\n",
      "Using cached features\n",
      "extracting feature: readability\n",
      "Generating features\n"
     ]
    },
    {
     "output_type": "execute_result",
     "data": {
      "text/plain": [
       "(array([[ 2.30974868e-01, -1.09119706e-01,  4.78489488e-01, ...,\n",
       "          3.53900709e+01,  1.03244397e+01,  7.96952128e+00],\n",
       "        [-3.19858044e-01,  7.23080710e-02,  1.60546139e-01, ...,\n",
       "          3.28862132e+01,  9.55896333e+00,  6.03537412e+00],\n",
       "        [ 5.44311851e-03, -4.35510166e-02,  2.42042798e-03, ...,\n",
       "          4.06490630e+01,  1.18650077e+01,  1.01632476e+01],\n",
       "        ...,\n",
       "        [-1.37437090e-01,  1.24813870e-01,  9.57856923e-02, ...,\n",
       "          3.54054200e+01,  9.65291714e+00,  7.50459869e+00],\n",
       "        [-2.84492761e-01,  1.54007986e-01,  3.15281898e-01, ...,\n",
       "          3.53458985e+01,  1.07612397e+01,  7.75848920e+00],\n",
       "        [-1.51752662e-02,  8.02491382e-02,  1.36497229e-01, ...,\n",
       "          5.48517872e+01,  1.47251584e+01,  1.61802169e+01]]),\n",
       " array([0, 0, 0, 0, 0, 0, 0, 0, 0, 0, 0, 0, 0, 0, 0, 0, 0, 0, 0, 0, 0, 0,\n",
       "        0, 0, 0, 0, 0, 0, 0, 1, 1, 1, 1, 1, 1, 1, 1, 1, 1, 1, 1, 1, 1, 1,\n",
       "        1, 1, 1, 1, 1, 1, 1, 1, 1, 1, 1, 1, 1, 1, 1, 0, 0, 0, 0, 0, 0, 0,\n",
       "        0, 0, 0, 0, 0, 0, 0, 0, 0, 0, 0, 0, 1, 1, 1, 1, 1, 1, 1, 1, 1, 1,\n",
       "        1, 1, 1, 1, 1, 1, 1, 1, 1, 1, 1, 1, 1, 1, 1, 1, 1, 1, 1, 1, 1, 1,\n",
       "        1, 1, 1, 0, 0, 0, 0, 0, 0, 0, 0, 0, 0, 0, 0, 0, 0, 0, 1, 1, 1, 1,\n",
       "        1, 1, 1, 1, 1, 1, 1, 1, 1, 1, 1, 1, 1, 1, 1, 1, 1, 1, 1, 1, 1, 1,\n",
       "        1, 1, 1, 1, 1, 1, 1, 1, 1, 1, 1, 1, 1, 1, 1, 1, 1, 1, 1, 1, 1, 0,\n",
       "        0, 0, 0, 0, 0, 0, 0, 0, 1, 1, 1, 1, 1, 1, 1, 1, 1, 1, 1, 1, 1, 1,\n",
       "        1, 1, 1, 1, 1, 1, 1, 1, 1, 1, 1, 1, 1, 1, 1, 1, 1, 1, 1, 1, 1, 1,\n",
       "        1, 1, 1, 1, 0, 0, 0, 0, 0, 0, 0, 0, 0, 0, 0, 0, 1, 1, 1, 1, 1, 1,\n",
       "        1, 1, 1, 1, 1, 1, 1, 1, 1, 1, 1, 1, 1, 1, 1, 1, 1, 1, 1, 1, 1, 1,\n",
       "        1, 1, 0, 0, 0, 0, 0, 0, 0, 0, 0, 1, 1, 1, 1, 1, 1, 1, 1, 1, 1, 1,\n",
       "        1, 1, 1, 1, 1, 1, 1, 1, 1, 1, 1, 1, 1, 1, 1, 1, 1, 1, 1, 1, 1, 1,\n",
       "        1, 1, 1, 1, 1, 1, 1, 1, 1, 1, 1, 1, 1, 1, 1, 1, 1, 1, 1, 1, 1, 1,\n",
       "        1, 1, 1, 1, 1, 1, 1, 1, 1, 1, 1, 1, 1, 1, 1, 1, 1, 1, 1, 1, 1, 1,\n",
       "        1, 1, 1, 1, 1, 1, 1, 1, 1, 1, 1, 1, 1, 1, 1, 0, 0, 0, 0, 0, 0, 0,\n",
       "        0, 0, 0, 0, 0, 0, 0, 0, 0, 0, 0, 0, 0, 0, 0, 0, 0, 1, 1, 1, 1, 1,\n",
       "        1, 1, 1, 1, 1, 1, 1, 1, 1, 1, 1, 1, 1, 1, 1, 1, 1, 1, 1, 0, 0, 0,\n",
       "        0, 0, 0, 0, 0, 0, 0, 0, 0, 0, 0, 0, 0, 0, 0, 0, 0, 0, 0, 0, 0, 0,\n",
       "        0, 0, 0, 0, 0, 0, 0, 0, 0, 0, 0, 0, 0, 0, 0, 0, 0, 0, 0, 0, 0, 0,\n",
       "        0, 0, 0, 0, 0, 0, 0, 0, 0, 0, 0, 0, 0, 0, 0, 0, 0, 0, 0, 0, 0, 0,\n",
       "        0, 0, 0, 0, 0, 1, 1, 1, 1, 1, 1, 1, 1, 1, 1, 1, 1, 1, 1, 1, 1, 1,\n",
       "        1, 1, 1, 1, 1, 1, 1, 1, 1, 1, 1, 1, 1, 1, 1, 1, 1, 1, 1, 1, 1, 1,\n",
       "        1, 1, 1, 1, 1, 1, 1, 1, 1, 1, 1, 1, 1, 1, 1, 1, 1, 1, 1, 1, 1, 1,\n",
       "        1, 1, 1, 1, 1]),\n",
       " array([[ 1.30193383e-01, -3.42437066e-02,  2.46732518e-01, ...,\n",
       "          3.51735944e+01,  1.03950142e+01,  7.53747635e+00],\n",
       "        [ 4.91799951e-01, -1.16524547e-02, -9.63199958e-02, ...,\n",
       "          4.11108862e+01,  1.16117615e+01,  1.05501682e+01],\n",
       "        [-1.37481302e-01, -8.79315585e-02, -4.53427881e-02, ...,\n",
       "          3.19886200e+01,  9.08803156e+00,  6.31614360e+00],\n",
       "        ...,\n",
       "        [-4.58913594e-01,  1.54373303e-01, -1.54157013e-01, ...,\n",
       "          3.52319698e+01,  9.86419093e+00,  7.81468591e+00],\n",
       "        [-5.15716910e-01,  1.18509538e-01, -9.42952037e-02, ...,\n",
       "          3.79823334e+01,  9.90596175e+00,  9.88751757e+00],\n",
       "        [-5.89183569e-01,  4.09055203e-01,  5.11088446e-02, ...,\n",
       "          4.04504992e+01,  1.16357554e+01,  9.48992103e+00]]),\n",
       " array([0, 0, 0, 0, 0, 0, 0, 0, 0, 0, 1, 1, 1, 1, 1, 0, 0, 0, 1, 1, 1, 1,\n",
       "        1, 1, 1, 1, 1, 1, 1, 0, 0, 0, 0, 0, 1, 1, 1, 1, 1, 1, 1, 1, 1, 1,\n",
       "        1, 0, 0, 1, 1, 1, 1, 1, 1, 1, 1, 0, 0, 1, 1, 1, 1, 1, 1, 1, 1, 0,\n",
       "        0, 0, 0, 1, 1, 1, 1, 1, 1, 1, 1, 1, 1, 1, 1, 1, 1, 1, 1, 1, 1, 1,\n",
       "        1, 1, 0, 0, 0, 0, 0, 0, 0, 0, 1, 1, 1, 1, 1, 0, 0, 0, 0, 0, 0, 0,\n",
       "        0, 0, 0, 0, 0, 0, 0, 0, 1, 1, 1, 1, 1, 1, 1, 1, 1, 1, 1, 1, 1, 1,\n",
       "        1, 1, 1, 1, 1, 1, 1]),\n",
       " array([[-0.17481259,  0.10363545,  0.21530564, ..., 31.50665218,\n",
       "          9.52092958,  5.6489878 ],\n",
       "        [-0.07504726,  0.27855927,  0.13992131, ..., 31.26258299,\n",
       "          9.21197139,  4.78935419],\n",
       "        [-0.27630678,  0.03892193,  0.19855131, ..., 30.76686925,\n",
       "          9.40093305,  5.23696479],\n",
       "        ...,\n",
       "        [-0.33984113,  0.04963576, -0.27863917, ..., 33.74507175,\n",
       "          8.9784181 ,  7.72904766],\n",
       "        [-0.22081602,  0.15369914,  0.16896579, ..., 35.57852002,\n",
       "         10.01822864,  7.03450323],\n",
       "        [-0.05090633,  0.28841424, -0.04654305, ..., 31.43845835,\n",
       "          8.54731712,  4.55175112]]),\n",
       " array([0, 0, 0, 0, 0, 0, 0, 0, 0, 0, 0, 0, 0, 0, 0, 0, 0, 0, 0, 0, 0, 1,\n",
       "        1, 1, 1, 1, 1, 1, 1, 1, 1, 1, 0, 0, 0, 0, 0, 0, 0, 1, 1, 1, 1, 1,\n",
       "        1, 1, 1, 1, 1, 1, 1, 1, 1, 1, 1, 1, 1, 1, 1, 1, 1, 1, 0, 0, 0, 0,\n",
       "        0, 0, 0, 0, 0, 0, 1, 1, 1, 1, 1, 1, 1, 1, 1, 1, 1, 1, 1, 1, 1, 1,\n",
       "        1, 1, 1, 1, 1, 1, 1, 0, 0, 0, 0, 0, 1, 1, 1, 1, 1, 1, 1, 1, 1, 1,\n",
       "        1, 1, 1, 1, 1, 1, 1, 0, 0, 0, 0, 1, 1, 1, 1, 1, 1, 1, 1, 1, 1, 1,\n",
       "        1, 1, 1, 1, 1, 0, 0, 0, 0, 0, 0, 0, 0, 0, 1, 1, 1, 1, 1, 1, 1, 1,\n",
       "        1, 1, 1, 1, 1, 1, 1, 1, 1, 1, 1, 1, 1, 1, 1, 1, 1, 1, 1, 1, 1, 1,\n",
       "        1, 1, 1, 1, 1, 1, 1, 1, 1, 1, 1, 1, 1, 1, 0, 0, 0, 0, 0, 0, 0, 0,\n",
       "        0, 0, 0, 0, 0, 0, 0, 0, 1, 1, 1, 1, 1, 1, 1, 1, 1, 1, 0, 0, 0, 0,\n",
       "        0, 0, 0, 0, 0, 0, 0, 0, 0, 0, 0, 0, 0, 0, 0, 0, 0, 0, 0, 0, 0, 0,\n",
       "        0, 0, 0, 0, 0, 1, 1, 1, 1, 1, 1, 1, 1, 1, 1, 1, 1, 1, 1, 1, 1, 1,\n",
       "        1, 1, 1, 1, 1, 1, 1, 1, 1, 1, 1, 1, 1, 1, 1, 1, 1, 1, 1, 1, 1, 1,\n",
       "        1, 1, 1, 1]),\n",
       " [768, 7])"
      ]
     },
     "metadata": {},
     "execution_count": 3
    }
   ],
   "metadata": {
    "tags": []
   }
  },
  {
   "cell_type": "code",
   "execution_count": 1,
   "source": [
    "from MultimodalGoodreadsDataset import MultimodalGoodreadsDataset\r\n",
    "\r\n",
    "dataset_base_dir = r'G:\\My Drive\\Thesis\\BookSuccessPredictor\\datasets\\goodreads_maharjan_super\\raw_preprocessed\\goodreads_maharjan_trimmed'\r\n",
    "cached_features_dir = r'G:\\My Drive\\Thesis\\BookSuccessPredictor\\datasets\\goodreads_maharjan_super\\MultiModal\\dataset_loader\\cached_features'\r\n",
    "a = MultimodalGoodreadsDataset(dataset_base_dir, cached_features_dir)"
   ],
   "outputs": [
    {
     "output_type": "stream",
     "name": "stderr",
     "text": [
      "g:\\My Drive\\Thesis\\BookSuccessPredictor\\datasets\\goodreads_maharjan_super\\MultiModal\\dataset_loader\\readers\\corpus.py:61: YAMLLoadWarning: calling yaml.load() without Loader=... is deprecated, as the default Loader is unsafe. Please read https://msg.pyyaml.org/load for full details.\n",
      "  data = yaml.load(stream)\n"
     ]
    },
    {
     "output_type": "stream",
     "name": "stdout",
     "text": [
      "Total test instances: 290, validation instances: 290, and Training instances: 404\n",
      "Total unique books: 984\n",
      "Training instances (404,), Val instances (290,), Test instances (290,)\n",
      "extracting feature: char_5_gram\n",
      "Using cached features\n",
      "extracting feature: bert_features\n",
      "Using cached features\n"
     ]
    }
   ],
   "metadata": {}
  },
  {
   "cell_type": "code",
   "execution_count": 1,
   "source": [
    "import torch"
   ],
   "outputs": [],
   "metadata": {}
  },
  {
   "cell_type": "code",
   "execution_count": 3,
   "source": [
    "a = torch.rand((4,10))"
   ],
   "outputs": [],
   "metadata": {}
  },
  {
   "cell_type": "code",
   "execution_count": 4,
   "source": [
    "b = torch.rand(4,10)"
   ],
   "outputs": [],
   "metadata": {}
  },
  {
   "cell_type": "code",
   "execution_count": 10,
   "source": [
    "c = torch.rand(4,20)"
   ],
   "outputs": [],
   "metadata": {}
  },
  {
   "cell_type": "code",
   "execution_count": 12,
   "source": [
    "torch.cat([a,b,c], 1).shape"
   ],
   "outputs": [
    {
     "output_type": "execute_result",
     "data": {
      "text/plain": [
       "torch.Size([4, 40])"
      ]
     },
     "metadata": {},
     "execution_count": 12
    }
   ],
   "metadata": {}
  },
  {
   "cell_type": "code",
   "execution_count": null,
   "source": [],
   "outputs": [],
   "metadata": {}
  }
 ]
}